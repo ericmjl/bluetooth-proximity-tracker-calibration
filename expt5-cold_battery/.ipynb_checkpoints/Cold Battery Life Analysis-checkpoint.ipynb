{
 "cells": [
  {
   "cell_type": "code",
   "execution_count": 16,
   "metadata": {
    "collapsed": true
   },
   "outputs": [],
   "source": [
    "import pandas as pd\n",
    "import matplotlib.pyplot as plt\n",
    "\n",
    "from datetime import datetime\n",
    "\n",
    "%matplotlib inline"
   ]
  },
  {
   "cell_type": "code",
   "execution_count": 11,
   "metadata": {
    "collapsed": true
   },
   "outputs": [],
   "source": [
    "expt_start = datetime(2015,12,24,10,0,0)\n",
    "expt_end = datetime(2015,12,25,9,0,0)"
   ]
  },
  {
   "cell_type": "code",
   "execution_count": 13,
   "metadata": {
    "collapsed": false
   },
   "outputs": [],
   "source": [
    "def as_datetime(x):\n",
    "    return datetime(x.year, x.month, x.day, x.hour, x.minute, x.second)\n",
    "\n",
    "def read_data(handle):\n",
    "    df = pd.read_csv(handle, header=None)\n",
    "    df.columns = ['tracker_id', 'dB', 'year', 'month', 'day', 'hour', 'minute', 'second']\n",
    "    df['date'] = df.apply(lambda x:as_datetime(x), axis=1)\n",
    "    df = df[df['date'] > expt_start]\n",
    "    df = df[df['date'] < expt_end]\n",
    "    return df\n",
    "\n",
    "bt6 = read_data('bt6.csv')\n",
    "bt7 = read_data('bt7.csv')\n",
    "bt8 = read_data('bt8.csv')"
   ]
  },
  {
   "cell_type": "code",
   "execution_count": 15,
   "metadata": {
    "collapsed": false
   },
   "outputs": [
    {
     "name": "stdout",
     "output_type": "stream",
     "text": [
      "0 days 09:54:53\n",
      "0 days 09:41:56\n",
      "0 days 09:03:42\n"
     ]
    }
   ],
   "source": [
    "print(bt6['date'].max() - bt6['date'].min())\n",
    "print(bt7['date'].max() - bt7['date'].min())\n",
    "print(bt8['date'].max() - bt8['date'].min())"
   ]
  },
  {
   "cell_type": "code",
   "execution_count": null,
   "metadata": {
    "collapsed": false
   },
   "outputs": [],
   "source": []
  },
  {
   "cell_type": "code",
   "execution_count": null,
   "metadata": {
    "collapsed": true
   },
   "outputs": [],
   "source": []
  }
 ],
 "metadata": {
  "kernelspec": {
   "display_name": "Python 3",
   "language": "python",
   "name": "python3"
  },
  "language_info": {
   "codemirror_mode": {
    "name": "ipython",
    "version": 3
   },
   "file_extension": ".py",
   "mimetype": "text/x-python",
   "name": "python",
   "nbconvert_exporter": "python",
   "pygments_lexer": "ipython3",
   "version": "3.4.3"
  }
 },
 "nbformat": 4,
 "nbformat_minor": 0
}
