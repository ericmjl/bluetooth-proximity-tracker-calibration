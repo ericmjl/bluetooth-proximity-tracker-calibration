{
 "cells": [
  {
   "cell_type": "code",
   "execution_count": 5,
   "metadata": {
    "collapsed": true
   },
   "outputs": [],
   "source": [
    "import pandas as pd\n",
    "import matplotlib.pyplot as plt\n",
    "\n",
    "from datetime import datetime\n",
    "\n",
    "%matplotlib inline"
   ]
  },
  {
   "cell_type": "code",
   "execution_count": 10,
   "metadata": {
    "collapsed": false
   },
   "outputs": [],
   "source": [
    "# battery lives are indicated by \"short\", \"long\" and \"solar\", for 2600 mAh, 5200 mAh, and solar.\n",
    "\n",
    "def as_datetime(x):\n",
    "    return datetime(x.year, x.month, x.day, x.hour, x.minute, x.second)\n",
    "\n",
    "def read_data(handle):\n",
    "    df = pd.read_csv(handle, header=None)\n",
    "    df.columns = ['tracker_id', 'dB', 'year', 'month', 'day', 'hour', 'minute', 'second']\n",
    "    df['date'] = df.apply(lambda x: as_datetime(x), axis=1)\n",
    "    return df\n",
    "\n",
    "long = read_data('bt5_5200mAh.csv')\n",
    "short = read_data('bt6_2600mAh.csv')\n",
    "solar = read_data('bt7_solar.csv')"
   ]
  },
  {
   "cell_type": "code",
   "execution_count": 16,
   "metadata": {
    "collapsed": false
   },
   "outputs": [
    {
     "name": "stdout",
     "output_type": "stream",
     "text": [
      "5200 mAh: 0 days 09:45:21\n",
      "2600 mAh: 0 days 04:50:04\n",
      "Solar power: 0 days 02:02:07\n"
     ]
    }
   ],
   "source": [
    "# What are the time deltas of data collection?\n",
    "long_td = long['date'].max() - long['date'].min()\n",
    "short_td = short['date'].max() - short['date'].min()\n",
    "solar_td = solar['date'].max() - solar['date'].min()\n",
    "\n",
    "print('5200 mAh: {0}'.format(long_td))\n",
    "print('2600 mAh: {0}'.format(short_td))\n",
    "print('Solar power: {0}'.format(solar_td))"
   ]
  }
 ],
 "metadata": {
  "kernelspec": {
   "display_name": "Python 3",
   "language": "python",
   "name": "python3"
  },
  "language_info": {
   "codemirror_mode": {
    "name": "ipython",
    "version": 3
   },
   "file_extension": ".py",
   "mimetype": "text/x-python",
   "name": "python",
   "nbconvert_exporter": "python",
   "pygments_lexer": "ipython3",
   "version": "3.4.3"
  }
 },
 "nbformat": 4,
 "nbformat_minor": 0
}
